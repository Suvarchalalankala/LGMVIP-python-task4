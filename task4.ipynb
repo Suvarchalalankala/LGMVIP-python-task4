{
 "cells": [
  {
   "cell_type": "code",
   "execution_count": null,
   "id": "530f7004",
   "metadata": {},
   "outputs": [],
   "source": [
    "import speech_recognition as sr\n",
    "import pyttsx3\n",
    "\n",
    "# Initialize the speech recognizer\n",
    "recognizer = sr.Recognizer()\n",
    "\n",
    "# Initialize the text to speech engine\n",
    "engine = pyttsx3.init()\n",
    "\n",
    "def listen():\n",
    "    with sr.Microphone() as source:\n",
    "        print(\"Listening...\")\n",
    "        recognizer.adjust_for_ambient_noise(source)\n",
    "        audio = recognizer.listen(source)\n",
    "\n",
    "    try:\n",
    "        print(\"Recognizing...\")\n",
    "        command = recognizer.recognize_google(audio).lower()\n",
    "        print(\"You said:\", command)\n",
    "        return command\n",
    "    except sr.UnknownValueError:\n",
    "        print(\"Could not understand audio.\")\n",
    "        return \"\"\n",
    "    except sr.RequestError as e:\n",
    "        print(\"Could not request results from Google Speech Recognition service; {0}\".format(e))\n",
    "        return \"\"\n",
    "\n",
    "def speak(text):\n",
    "    engine.say(text)\n",
    "    engine.runAndWait()\n",
    "\n",
    "def process_command(command):\n",
    "    if \"hello\" in command:\n",
    "        speak(\"Hello! How can I help you?\")\n",
    "    elif \"what is your name\" in command:\n",
    "        speak(\"I am your assistant.\")\n",
    "    elif \"goodbye\" in command:\n",
    "        speak(\"Goodbye! Have a nice day.\")\n",
    "        exit()\n",
    "    else:\n",
    "        speak(\"Sorry, I didn't understand that command.\")\n",
    "\n",
    "# Main loop\n",
    "if __name__ == \"__main__\":\n",
    "    speak(\"Hello! How can I help you?\")\n",
    "    while True:\n",
    "        command = listen()\n",
    "        process_command(command)\n"
   ]
  }
 ],
 "metadata": {
  "kernelspec": {
   "display_name": "Python 3 (ipykernel)",
   "language": "python",
   "name": "python3"
  },
  "language_info": {
   "codemirror_mode": {
    "name": "ipython",
    "version": 3
   },
   "file_extension": ".py",
   "mimetype": "text/x-python",
   "name": "python",
   "nbconvert_exporter": "python",
   "pygments_lexer": "ipython3",
   "version": "3.11.5"
  }
 },
 "nbformat": 4,
 "nbformat_minor": 5
}
